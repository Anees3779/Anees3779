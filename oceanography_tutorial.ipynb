{
 "cells": [
  {
   "cell_type": "code",
   "execution_count": null,
   "id": "6e6af1d4",
   "metadata": {},
   "outputs": [],
   "source": [
    "import numpy as np\n",
    "import pandas as pd\n",
    "\n",
    "import matplotlib.pyplot as plt\n",
    "\n",
    "from sklearn.model_selection import train_test_split\n",
    "\n",
    "from sklearn.linear_model import LinearRegression\n",
    "\n",
    "from sklearn.metrics import r2_score\n",
    "import seaborn as sns"
   ]
  },
  {
   "cell_type": "code",
   "execution_count": null,
   "id": "81d9d98a",
   "metadata": {},
   "outputs": [],
   "source": [
    "# opening file with the help of read_csv \n",
    "bot = pd.read_csv(\"bottle.csv\",low_memory=False)"
   ]
  },
  {
   "cell_type": "code",
   "execution_count": null,
   "id": "5d156873",
   "metadata": {},
   "outputs": [],
   "source": [
    "bot.head()"
   ]
  },
  {
   "cell_type": "code",
   "execution_count": null,
   "id": "e2fd1a59",
   "metadata": {},
   "outputs": [],
   "source": [
    "bot.tail()"
   ]
  },
  {
   "cell_type": "code",
   "execution_count": null,
   "id": "590f139a",
   "metadata": {},
   "outputs": [],
   "source": [
    "bot.shape"
   ]
  },
  {
   "cell_type": "code",
   "execution_count": null,
   "id": "ca3bbe77",
   "metadata": {},
   "outputs": [],
   "source": [
    "bot.info()"
   ]
  },
  {
   "cell_type": "code",
   "execution_count": null,
   "id": "56067ba1",
   "metadata": {},
   "outputs": [],
   "source": [
    "bot.describe()"
   ]
  },
  {
   "cell_type": "code",
   "execution_count": null,
   "id": "862ebdfa",
   "metadata": {},
   "outputs": [],
   "source": [
    "bot.columns"
   ]
  },
  {
   "cell_type": "code",
   "execution_count": null,
   "id": "cabffa4e",
   "metadata": {},
   "outputs": [],
   "source": [
    "bot.isna().sum()"
   ]
  },
  {
   "cell_type": "code",
   "execution_count": null,
   "id": "78f8c6ca",
   "metadata": {},
   "outputs": [],
   "source": [
    "#Selecting target columns as bot1\n",
    "bot1 =bot[['T_degC', 'Salnty','Depthm','O2ml_L','O2Sat','STheta',]]"
   ]
  },
  {
   "cell_type": "code",
   "execution_count": null,
   "id": "7e9809d1",
   "metadata": {},
   "outputs": [],
   "source": [
    "bot1.head()"
   ]
  },
  {
   "cell_type": "code",
   "execution_count": null,
   "id": "fe2fdf94",
   "metadata": {},
   "outputs": [],
   "source": [
    "bot1.describe()"
   ]
  },
  {
   "cell_type": "code",
   "execution_count": null,
   "id": "9b57353e",
   "metadata": {},
   "outputs": [],
   "source": [
    "# checking null values\n",
    "bot1.isna().sum()"
   ]
  },
  {
   "cell_type": "code",
   "execution_count": null,
   "id": "f2e6fa2a",
   "metadata": {},
   "outputs": [],
   "source": [
    "# Droping null values\n",
    "bot1 = bot1.dropna()\n"
   ]
  },
  {
   "cell_type": "code",
   "execution_count": null,
   "id": "76a0873b",
   "metadata": {},
   "outputs": [],
   "source": [
    "#reseting the index\n",
    "bot1.reset_index(drop=True, inplace=True)\n"
   ]
  },
  {
   "cell_type": "code",
   "execution_count": null,
   "id": "817dc651",
   "metadata": {},
   "outputs": [],
   "source": [
    "bot1.head()"
   ]
  },
  {
   "cell_type": "code",
   "execution_count": null,
   "id": "6488164d",
   "metadata": {},
   "outputs": [],
   "source": [
    "bot1.shape"
   ]
  },
  {
   "cell_type": "code",
   "execution_count": null,
   "id": "711b1b04",
   "metadata": {},
   "outputs": [],
   "source": [
    "bot1.describe()"
   ]
  },
  {
   "cell_type": "code",
   "execution_count": null,
   "id": "95433ea0",
   "metadata": {},
   "outputs": [],
   "source": [
    "bot1.info()"
   ]
  },
  {
   "cell_type": "code",
   "execution_count": null,
   "id": "3a8f8dcf",
   "metadata": {},
   "outputs": [],
   "source": [
    "#getting correlation\n",
    "bot1.corr()"
   ]
  },
  {
   "cell_type": "code",
   "execution_count": null,
   "id": "a7f8e6c5",
   "metadata": {},
   "outputs": [],
   "source": [
    "# Box-Plot\n",
    "sns.boxplot(y='T_degC',data=bot1)"
   ]
  },
  {
   "cell_type": "code",
   "execution_count": null,
   "id": "161c6e6b",
   "metadata": {},
   "outputs": [],
   "source": [
    "# Heatmap\n",
    "cor = bot1.corr()\n",
    "sns.heatmap(cor, cmap=\"crest\", annot=True)\n",
    "plt.show()"
   ]
  },
  {
   "cell_type": "code",
   "execution_count": null,
   "id": "2ecbe1ad",
   "metadata": {},
   "outputs": [],
   "source": [
    "# Pair-Plot\n",
    "sns.pairplot(bot1)"
   ]
  },
  {
   "cell_type": "code",
   "execution_count": null,
   "id": "eaa5724e",
   "metadata": {},
   "outputs": [],
   "source": [
    "# Set the style and color palette\n",
    "sns.set(style=\"whitegrid\", palette=\"pastel\")\n",
    "\n",
    "# Create a figure\n",
    "plt.figure(figsize=(10, 6))\n",
    "\n",
    "# Create a histogram with Seaborn\n",
    "sns.histplot(data=bot1, x='T_degC', bins=20, kde=True, color='skyblue')\n",
    "\n",
    "# Customize labels and title\n",
    "plt.title('Histogram of Temperature')\n",
    "plt.xlabel('Temperature in degree Celsius')\n",
    "plt.ylabel('Frequency')\n",
    "\n",
    "# Show the plot\n",
    "plt.show()\n"
   ]
  },
  {
   "cell_type": "code",
   "execution_count": null,
   "id": "0f837f5d",
   "metadata": {},
   "outputs": [],
   "source": []
  },
  {
   "cell_type": "markdown",
   "id": "ea894617",
   "metadata": {},
   "source": [
    "## Train Split Test\n"
   ]
  },
  {
   "cell_type": "code",
   "execution_count": null,
   "id": "f6d20caa",
   "metadata": {},
   "outputs": [],
   "source": [
    "X = bot1.drop(columns='T_degC')\n",
    "y = bot1['T_degC']"
   ]
  },
  {
   "cell_type": "code",
   "execution_count": null,
   "id": "9515294a",
   "metadata": {
    "scrolled": true
   },
   "outputs": [],
   "source": [
    "X.head()"
   ]
  },
  {
   "cell_type": "code",
   "execution_count": null,
   "id": "0c85bcb3",
   "metadata": {},
   "outputs": [],
   "source": [
    "y.head()"
   ]
  },
  {
   "cell_type": "code",
   "execution_count": null,
   "id": "8dd279e8",
   "metadata": {},
   "outputs": [],
   "source": [
    "X_train, X_test, y_train, y_test = train_test_split(X, y, test_size = 0.33, random_state = 42)"
   ]
  },
  {
   "cell_type": "code",
   "execution_count": null,
   "id": "69ac1063",
   "metadata": {},
   "outputs": [],
   "source": [
    "X_train.shape"
   ]
  },
  {
   "cell_type": "markdown",
   "id": "1a41ecad",
   "metadata": {},
   "source": [
    "## Linear Regression"
   ]
  },
  {
   "cell_type": "code",
   "execution_count": null,
   "id": "eaac6e9a",
   "metadata": {},
   "outputs": [],
   "source": [
    "#Standardising the Dataset\n",
    "from sklearn.preprocessing import StandardScaler\n",
    "scaler = StandardScaler()"
   ]
  },
  {
   "cell_type": "code",
   "execution_count": null,
   "id": "6ef0aab6",
   "metadata": {},
   "outputs": [],
   "source": [
    "X_train= scaler.fit_transform(X_train)"
   ]
  },
  {
   "cell_type": "code",
   "execution_count": null,
   "id": "2704b26c",
   "metadata": {},
   "outputs": [],
   "source": [
    "X_test= scaler.transform(X_test)"
   ]
  },
  {
   "cell_type": "code",
   "execution_count": null,
   "id": "65006be8",
   "metadata": {},
   "outputs": [],
   "source": [
    "#for Cross Validation\n",
    "from sklearn.model_selection import cross_val_score\n"
   ]
  },
  {
   "cell_type": "code",
   "execution_count": null,
   "id": "6e5df63d",
   "metadata": {},
   "outputs": [],
   "source": [
    "import numpy as np\n",
    "\n",
    "class LinearRegressionFromScratch:\n",
    "    def __init__(self):\n",
    "        self.coefficients = None\n",
    "\n",
    "    def fit(self, X, y):\n",
    "        # Add a column of ones to X for the intercept term\n",
    "        X = np.column_stack((np.ones(X.shape[0]), X))\n",
    "\n",
    "        # Calculate the coefficients using the normal equation\n",
    "        self.coefficients = np.linalg.inv(X.T @ X) @ X.T @ y\n",
    "\n",
    "    def predict(self, X):\n",
    "        if self.coefficients is None:\n",
    "            raise ValueError(\"Model has not been trained. Fit the model first.\")\n",
    "\n",
    "        # Add a column of ones to X for the intercept term\n",
    "        X = np.column_stack((np.ones(X.shape[0]), X))\n",
    "\n",
    "        # Make predictions\n",
    "        y_pred = X @ self.coefficients\n",
    "        return y_pred\n",
    "\n",
    "   "
   ]
  },
  {
   "cell_type": "code",
   "execution_count": null,
   "id": "c0c7e1e1",
   "metadata": {},
   "outputs": [],
   "source": [
    "regressor=LinearRegressionFromScratch()\n",
    "regressor.fit(X_train, y_train)"
   ]
  },
  {
   "cell_type": "code",
   "execution_count": null,
   "id": "7f2f9a30",
   "metadata": {},
   "outputs": [],
   "source": [
    "# Access the intercept and coefficients\n",
    "intercept, coefficients = regressor.coefficients[0], regressor.coefficients[1:]\n",
    "\n",
    "# Print the intercept and coefficients\n",
    "print(\"Intercept (Bias):\", intercept)\n",
    "print(\"Coefficients for Features:\", coefficients)"
   ]
  },
  {
   "cell_type": "code",
   "execution_count": null,
   "id": "8389917c",
   "metadata": {},
   "outputs": [],
   "source": [
    "y_pred = regressor.predict(X_test)"
   ]
  },
  {
   "cell_type": "code",
   "execution_count": null,
   "id": "5dc52fe6",
   "metadata": {},
   "outputs": [],
   "source": [
    "np.max(bot1.T_degC)\n"
   ]
  },
  {
   "cell_type": "code",
   "execution_count": null,
   "id": "6a22e196",
   "metadata": {},
   "outputs": [],
   "source": [
    "np.min(bot1.T_degC)\n"
   ]
  },
  {
   "cell_type": "code",
   "execution_count": null,
   "id": "9ddc5735",
   "metadata": {},
   "outputs": [],
   "source": [
    "np.median(bot1.T_degC)\n"
   ]
  },
  {
   "cell_type": "code",
   "execution_count": null,
   "id": "da194743",
   "metadata": {},
   "outputs": [],
   "source": [
    "np.mean(bot1.T_degC)"
   ]
  },
  {
   "cell_type": "code",
   "execution_count": null,
   "id": "8bdd13d3",
   "metadata": {},
   "outputs": [],
   "source": [
    "reg_pred = regressor.predict(X_test)"
   ]
  },
  {
   "cell_type": "code",
   "execution_count": null,
   "id": "7633cb94",
   "metadata": {},
   "outputs": [],
   "source": [
    "reg_pred"
   ]
  },
  {
   "cell_type": "code",
   "execution_count": null,
   "id": "ea94811a",
   "metadata": {},
   "outputs": [],
   "source": [
    "# Create a distribution plot with KDE\n",
    "sns.displot(reg_pred - y_test, kde=True) \n",
    "plt.title('Distribution Plot with KDE')\n",
    "plt.xlabel('Difference (residuals)')\n",
    "plt.ylabel('Density')\n",
    "\n",
    "plt.show()"
   ]
  },
  {
   "cell_type": "markdown",
   "id": "25aab2e7",
   "metadata": {},
   "source": [
    "# r2 = r2_score(Y_test, y_pred)\n"
   ]
  },
  {
   "cell_type": "code",
   "execution_count": null,
   "id": "0f7504c9",
   "metadata": {},
   "outputs": [],
   "source": [
    "from sklearn.metrics import r2_score"
   ]
  },
  {
   "cell_type": "code",
   "execution_count": null,
   "id": "2598fbc7",
   "metadata": {},
   "outputs": [],
   "source": [
    "r2 = r2_score(reg_pred,y_test)"
   ]
  },
  {
   "cell_type": "code",
   "execution_count": null,
   "id": "111d93d4",
   "metadata": {},
   "outputs": [],
   "source": [
    "r2"
   ]
  }
 ],
 "metadata": {
  "kernelspec": {
   "display_name": "Python 3 (ipykernel)",
   "language": "python",
   "name": "python3"
  },
  "language_info": {
   "codemirror_mode": {
    "name": "ipython",
    "version": 3
   },
   "file_extension": ".py",
   "mimetype": "text/x-python",
   "name": "python",
   "nbconvert_exporter": "python",
   "pygments_lexer": "ipython3",
   "version": "3.11.4"
  }
 },
 "nbformat": 4,
 "nbformat_minor": 5
}

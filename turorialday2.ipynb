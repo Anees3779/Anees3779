{
 "cells": [
  {
   "cell_type": "code",
   "execution_count": null,
   "id": "d99d906d",
   "metadata": {
    "scrolled": false
   },
   "outputs": [],
   "source": []
  },
  {
   "cell_type": "code",
   "execution_count": null,
   "id": "4e83d628",
   "metadata": {},
   "outputs": [],
   "source": [
    "#find skewness Of Python\n",
    "import pandas as pd\n",
    "import numpy as np\n",
    "\n",
    "#loading csv dataset into the dataframe\n",
    "df=pd.read_csv('Mall_Customers_data.csv')\n",
    "df.head(10)\n",
    "\n",
    "#finding Skewness\n",
    "def Calculate_skewness(data):\n",
    "    mean=np.mean(data)\n",
    "    std_dev = np.std(data)\n",
    "    n = len(data)\n",
    "    skewness = (1/n)*sum(((data - mean)/std_dev)**3)\n",
    "    return skewness\n",
    "\n",
    "#Calculate kurtosis\n",
    "def Calculate_kurtosis(data):\n",
    "    mean = np.mean(data)\n",
    "    std_dev = np.std(data)\n",
    "    n=len(data)\n",
    "    kurtosis = (1/n) * sum(((data - mean) / std_dev)**4)-3\n",
    "    return kurtosis\n",
    "\n",
    "#for age\n",
    "age=df['Age']\n",
    "skewness = Calculate_skewness(age)\n",
    "kurtosis = Calculate_kurtosis(age)\n",
    "\n",
    "#Print skewness and kurtosis\n",
    "print(f'Skewness : {skewness}')\n",
    "print(f'Kurtosis :{kurtosis}')"
   ]
  },
  {
   "cell_type": "code",
   "execution_count": null,
   "id": "2f0a1640",
   "metadata": {},
   "outputs": [],
   "source": []
  },
  {
   "cell_type": "code",
   "execution_count": null,
   "id": "b810ea8b",
   "metadata": {},
   "outputs": [],
   "source": []
  },
  {
   "cell_type": "code",
   "execution_count": null,
   "id": "8f204a68",
   "metadata": {},
   "outputs": [],
   "source": []
  }
 ],
 "metadata": {
  "kernelspec": {
   "display_name": "Python 3 (ipykernel)",
   "language": "python",
   "name": "python3"
  },
  "language_info": {
   "codemirror_mode": {
    "name": "ipython",
    "version": 3
   },
   "file_extension": ".py",
   "mimetype": "text/x-python",
   "name": "python",
   "nbconvert_exporter": "python",
   "pygments_lexer": "ipython3",
   "version": "3.11.4"
  }
 },
 "nbformat": 4,
 "nbformat_minor": 5
}

{
 "cells": [
  {
   "cell_type": "code",
   "execution_count": null,
   "id": "da85f6b6",
   "metadata": {},
   "outputs": [],
   "source": [
    "import pandas as pd\n",
    "import numpy as np\n",
    "import matplotlib.pyplot as plt\n",
    "import seaborn as sns\n"
   ]
  },
  {
   "cell_type": "code",
   "execution_count": null,
   "id": "1a4f0ee3",
   "metadata": {},
   "outputs": [],
   "source": [
    "calcofi = pd.read_csv(\"bottle.csv\",low_memory=False)"
   ]
  },
  {
   "cell_type": "code",
   "execution_count": null,
   "id": "39cdf507",
   "metadata": {},
   "outputs": [],
   "source": [
    "calcofi.head()"
   ]
  },
  {
   "cell_type": "code",
   "execution_count": null,
   "id": "90534747",
   "metadata": {},
   "outputs": [],
   "source": [
    "calcofi.shape"
   ]
  },
  {
   "cell_type": "code",
   "execution_count": null,
   "id": "a03c0e41",
   "metadata": {},
   "outputs": [],
   "source": [
    "calcofi.describe()"
   ]
  },
  {
   "cell_type": "code",
   "execution_count": null,
   "id": "018219ee",
   "metadata": {},
   "outputs": [],
   "source": [
    "calcofi.columns"
   ]
  },
  {
   "cell_type": "code",
   "execution_count": null,
   "id": "a8627e08",
   "metadata": {},
   "outputs": [],
   "source": [
    "calcofi_tar =calcofi[['T_degC', 'Salnty','Depthm','O2ml_L','O2Sat','STheta',]]"
   ]
  },
  {
   "cell_type": "code",
   "execution_count": null,
   "id": "f74d1483",
   "metadata": {},
   "outputs": [],
   "source": [
    "calcofi_tar.head()"
   ]
  },
  {
   "cell_type": "code",
   "execution_count": null,
   "id": "ffa765c7",
   "metadata": {},
   "outputs": [],
   "source": [
    "calcofi_tar.isnull().sum()"
   ]
  },
  {
   "cell_type": "code",
   "execution_count": null,
   "id": "c0288598",
   "metadata": {},
   "outputs": [],
   "source": [
    "calcofi_tar=calcofi_tar.dropna()"
   ]
  },
  {
   "cell_type": "code",
   "execution_count": null,
   "id": "71bab370",
   "metadata": {},
   "outputs": [],
   "source": [
    "calcofi_tar.shape"
   ]
  },
  {
   "cell_type": "code",
   "execution_count": null,
   "id": "f4343d3a",
   "metadata": {},
   "outputs": [],
   "source": [
    "calcofi_tar.describe()"
   ]
  },
  {
   "cell_type": "code",
   "execution_count": null,
   "id": "d204d7f0",
   "metadata": {},
   "outputs": [],
   "source": [
    "calcofi_tar.isnull().sum()"
   ]
  },
  {
   "cell_type": "code",
   "execution_count": null,
   "id": "dcefba03",
   "metadata": {},
   "outputs": [],
   "source": [
    "calcofi_tar.reset_index(drop=True, inplace=True)"
   ]
  },
  {
   "cell_type": "code",
   "execution_count": null,
   "id": "14b70b54",
   "metadata": {},
   "outputs": [],
   "source": [
    "calcofi_tar.head()"
   ]
  },
  {
   "cell_type": "code",
   "execution_count": null,
   "id": "2d53295f",
   "metadata": {},
   "outputs": [],
   "source": [
    "calcofi_tar.corr()"
   ]
  },
  {
   "cell_type": "code",
   "execution_count": null,
   "id": "381d8d0c",
   "metadata": {},
   "outputs": [],
   "source": [
    "cor = calcofi_tar.corr()\n",
    "sns.heatmap(cor, cmap=\"crest\", annot=True)\n",
    "plt.show()"
   ]
  },
  {
   "cell_type": "code",
   "execution_count": null,
   "id": "c53df6b9",
   "metadata": {},
   "outputs": [],
   "source": [
    "sns.pairplot(calcofi_tar)"
   ]
  },
  {
   "cell_type": "code",
   "execution_count": null,
   "id": "005b2819",
   "metadata": {},
   "outputs": [],
   "source": [
    "# Set the style and color palette\n",
    "sns.set(style=\"whitegrid\", palette=\"pastel\")\n",
    "\n",
    "# Create a figure\n",
    "plt.figure(figsize=(10, 6))\n",
    "\n",
    "# Create a histogram with Seaborn\n",
    "sns.histplot(data=calcofi_tar, x='T_degC', bins=20, kde=True, color='skyblue')\n",
    "\n",
    "# Customize labels and title\n",
    "plt.title('Histogram of Temperature')\n",
    "plt.xlabel('Temperature in degree Celsius')\n",
    "plt.ylabel('Frequency')\n",
    "\n",
    "# Show the plot\n",
    "plt.show()\n",
    "\n",
    "\n",
    "\n",
    "\n",
    "\n",
    "\n",
    "\n"
   ]
  },
  {
   "cell_type": "code",
   "execution_count": null,
   "id": "178b7163",
   "metadata": {},
   "outputs": [],
   "source": [
    "sns.boxplot(y='T_degC',data=calcofi_tar)"
   ]
  },
  {
   "cell_type": "code",
   "execution_count": null,
   "id": "0daa7f25",
   "metadata": {},
   "outputs": [],
   "source": [
    "X = calcofi_tar.drop('T_degC',axis=1)\n",
    "y = calcofi_tar['T_degC']"
   ]
  },
  {
   "cell_type": "code",
   "execution_count": null,
   "id": "0bf997ad",
   "metadata": {},
   "outputs": [],
   "source": [
    "X.head()"
   ]
  },
  {
   "cell_type": "code",
   "execution_count": null,
   "id": "dc542a66",
   "metadata": {},
   "outputs": [],
   "source": [
    "y.head()"
   ]
  },
  {
   "cell_type": "markdown",
   "id": "d02e1bd7",
   "metadata": {},
   "source": [
    "## Train Split Test"
   ]
  },
  {
   "cell_type": "code",
   "execution_count": null,
   "id": "524c9d78",
   "metadata": {},
   "outputs": [],
   "source": [
    "from sklearn.model_selection import train_test_split\n",
    "X_train, X_test, y_train, y_test = train_test_split(X, y, test_size=0.33, random_state=42)"
   ]
  },
  {
   "cell_type": "code",
   "execution_count": null,
   "id": "ceef185a",
   "metadata": {},
   "outputs": [],
   "source": [
    "#Standardising the Dataset\n",
    "from sklearn.preprocessing import StandardScaler\n",
    "scaler = StandardScaler()\n"
   ]
  },
  {
   "cell_type": "code",
   "execution_count": null,
   "id": "5d93a587",
   "metadata": {},
   "outputs": [],
   "source": [
    "X_train= scaler.fit_transform(X_train)"
   ]
  },
  {
   "cell_type": "code",
   "execution_count": null,
   "id": "b3adf530",
   "metadata": {},
   "outputs": [],
   "source": [
    "X_test= scaler.transform(X_test)"
   ]
  },
  {
   "cell_type": "code",
   "execution_count": null,
   "id": "47fa19a2",
   "metadata": {},
   "outputs": [],
   "source": [
    "# Importing Linear Regression\n",
    "from sklearn.linear_model import LinearRegression"
   ]
  },
  {
   "cell_type": "code",
   "execution_count": null,
   "id": "10964f02",
   "metadata": {},
   "outputs": [],
   "source": [
    "#for Cross Validation\n",
    "from sklearn.model_selection import cross_val_score"
   ]
  },
  {
   "cell_type": "code",
   "execution_count": null,
   "id": "6ad185a9",
   "metadata": {},
   "outputs": [],
   "source": [
    "regression = LinearRegression()\n",
    "regression.fit(X_train,y_train)"
   ]
  },
  {
   "cell_type": "code",
   "execution_count": null,
   "id": "8e5e3213",
   "metadata": {},
   "outputs": [],
   "source": [
    "LinearRegression()"
   ]
  },
  {
   "cell_type": "code",
   "execution_count": null,
   "id": "242b9af6",
   "metadata": {},
   "outputs": [],
   "source": [
    "MSE=cross_val_score(regression,X_train,y_train,scoring='neg_mean_squared_error',cv=5)"
   ]
  },
  {
   "cell_type": "code",
   "execution_count": null,
   "id": "9a55b4fc",
   "metadata": {},
   "outputs": [],
   "source": [
    "np.mean(MSE)"
   ]
  },
  {
   "cell_type": "code",
   "execution_count": null,
   "id": "f2721c2c",
   "metadata": {},
   "outputs": [],
   "source": [
    "#Prediction \n",
    "reg_pred = regression.predict(X_test)"
   ]
  },
  {
   "cell_type": "code",
   "execution_count": null,
   "id": "83b2b432",
   "metadata": {},
   "outputs": [],
   "source": [
    "reg_pred"
   ]
  },
  {
   "cell_type": "code",
   "execution_count": null,
   "id": "add9cdcf",
   "metadata": {},
   "outputs": [],
   "source": [
    "regression.coef_"
   ]
  },
  {
   "cell_type": "code",
   "execution_count": null,
   "id": "494ef0a3",
   "metadata": {},
   "outputs": [],
   "source": [
    "regression.intercept_"
   ]
  },
  {
   "cell_type": "code",
   "execution_count": null,
   "id": "56a6aa34",
   "metadata": {},
   "outputs": [],
   "source": [
    "# Create a distribution plot with KDE\n",
    "sns.displot(reg_pred - y_test, kde=True) \n",
    "plt.title('Distribution Plot with KDE')\n",
    "plt.xlabel('Difference (residuals)')\n",
    "plt.ylabel('Density')\n",
    "\n",
    "plt.show()"
   ]
  },
  {
   "cell_type": "code",
   "execution_count": null,
   "id": "bb1e3e3b",
   "metadata": {},
   "outputs": [],
   "source": [
    "from sklearn.metrics import r2_score"
   ]
  },
  {
   "cell_type": "code",
   "execution_count": null,
   "id": "8244ce58",
   "metadata": {},
   "outputs": [],
   "source": [
    "score = r2_score(reg_pred,y_test)"
   ]
  },
  {
   "cell_type": "code",
   "execution_count": null,
   "id": "ab889d18",
   "metadata": {},
   "outputs": [],
   "source": [
    "score"
   ]
  },
  {
   "cell_type": "code",
   "execution_count": null,
   "id": "81a1b7eb",
   "metadata": {},
   "outputs": [],
   "source": []
  }
 ],
 "metadata": {
  "kernelspec": {
   "display_name": "Python 3 (ipykernel)",
   "language": "python",
   "name": "python3"
  },
  "language_info": {
   "codemirror_mode": {
    "name": "ipython",
    "version": 3
   },
   "file_extension": ".py",
   "mimetype": "text/x-python",
   "name": "python",
   "nbconvert_exporter": "python",
   "pygments_lexer": "ipython3",
   "version": "3.11.4"
  }
 },
 "nbformat": 4,
 "nbformat_minor": 5
}

{
 "cells": [
  {
   "cell_type": "code",
   "execution_count": null,
   "id": "d38d454b",
   "metadata": {},
   "outputs": [],
   "source": []
  },
  {
   "cell_type": "code",
   "execution_count": 1,
   "id": "2ce7c31f",
   "metadata": {},
   "outputs": [
    {
     "ename": "AttributeError",
     "evalue": "'Series' object has no attribute 'sort'",
     "output_type": "error",
     "traceback": [
      "\u001b[1;31m---------------------------------------------------------------------------\u001b[0m",
      "\u001b[1;31mAttributeError\u001b[0m                            Traceback (most recent call last)",
      "Cell \u001b[1;32mIn[1], line 30\u001b[0m\n\u001b[0;32m     28\u001b[0m age\u001b[38;5;241m=\u001b[39mdf[\u001b[38;5;124m'\u001b[39m\u001b[38;5;124mAge\u001b[39m\u001b[38;5;124m'\u001b[39m]\n\u001b[0;32m     29\u001b[0m mean_age \u001b[38;5;241m=\u001b[39m find_mean(age)\n\u001b[1;32m---> 30\u001b[0m median_age \u001b[38;5;241m=\u001b[39m find_median(age)\n\u001b[0;32m     31\u001b[0m mode_age \u001b[38;5;241m=\u001b[39m find_mode(age)\n\u001b[0;32m     33\u001b[0m annual_income \u001b[38;5;241m=\u001b[39m df[\u001b[38;5;124m'\u001b[39m\u001b[38;5;124mAnnual Income\u001b[39m\u001b[38;5;124m'\u001b[39m]\n",
      "Cell \u001b[1;32mIn[1], line 9\u001b[0m, in \u001b[0;36mfind_median\u001b[1;34m(data)\u001b[0m\n\u001b[0;32m      8\u001b[0m \u001b[38;5;28;01mdef\u001b[39;00m \u001b[38;5;21mfind_median\u001b[39m(data):\n\u001b[1;32m----> 9\u001b[0m     data\u001b[38;5;241m.\u001b[39msort()\n\u001b[0;32m     10\u001b[0m     \u001b[38;5;28;01mif\u001b[39;00m n \u001b[38;5;241m%\u001b[39m \u001b[38;5;241m2\u001b[39m \u001b[38;5;241m!=\u001b[39m \u001b[38;5;241m0\u001b[39m:\n\u001b[0;32m     11\u001b[0m         mid1 \u001b[38;5;241m=\u001b[39m values[n \u001b[38;5;241m/\u001b[39m \u001b[38;5;241m2\u001b[39m \u001b[38;5;241m-\u001b[39m \u001b[38;5;241m1\u001b[39m]\n",
      "File \u001b[1;32mC:\\ProgramData\\anaconda3\\Lib\\site-packages\\pandas\\core\\generic.py:5902\u001b[0m, in \u001b[0;36mNDFrame.__getattr__\u001b[1;34m(self, name)\u001b[0m\n\u001b[0;32m   5895\u001b[0m \u001b[38;5;28;01mif\u001b[39;00m (\n\u001b[0;32m   5896\u001b[0m     name \u001b[38;5;129;01mnot\u001b[39;00m \u001b[38;5;129;01min\u001b[39;00m \u001b[38;5;28mself\u001b[39m\u001b[38;5;241m.\u001b[39m_internal_names_set\n\u001b[0;32m   5897\u001b[0m     \u001b[38;5;129;01mand\u001b[39;00m name \u001b[38;5;129;01mnot\u001b[39;00m \u001b[38;5;129;01min\u001b[39;00m \u001b[38;5;28mself\u001b[39m\u001b[38;5;241m.\u001b[39m_metadata\n\u001b[0;32m   5898\u001b[0m     \u001b[38;5;129;01mand\u001b[39;00m name \u001b[38;5;129;01mnot\u001b[39;00m \u001b[38;5;129;01min\u001b[39;00m \u001b[38;5;28mself\u001b[39m\u001b[38;5;241m.\u001b[39m_accessors\n\u001b[0;32m   5899\u001b[0m     \u001b[38;5;129;01mand\u001b[39;00m \u001b[38;5;28mself\u001b[39m\u001b[38;5;241m.\u001b[39m_info_axis\u001b[38;5;241m.\u001b[39m_can_hold_identifiers_and_holds_name(name)\n\u001b[0;32m   5900\u001b[0m ):\n\u001b[0;32m   5901\u001b[0m     \u001b[38;5;28;01mreturn\u001b[39;00m \u001b[38;5;28mself\u001b[39m[name]\n\u001b[1;32m-> 5902\u001b[0m \u001b[38;5;28;01mreturn\u001b[39;00m \u001b[38;5;28mobject\u001b[39m\u001b[38;5;241m.\u001b[39m\u001b[38;5;21m__getattribute__\u001b[39m(\u001b[38;5;28mself\u001b[39m, name)\n",
      "\u001b[1;31mAttributeError\u001b[0m: 'Series' object has no attribute 'sort'"
     ]
    }
   ],
   "source": [
    "import pandas as pd\n",
    "df=pd.read_csv('Mall_Customers_data.csv')\n",
    "#Calculating mean\n",
    "def find_mean(data):\n",
    "    total=sum(data)\n",
    "    return total/len(data)\n",
    "#Calculating median\n",
    "def find_median(data):\n",
    "    data.sort()\n",
    "    if n % 2 != 0:\n",
    "        mid1 = values[n / 2 - 1]\n",
    "        mid2 = values[n / 2]\n",
    "        median = (mid1 + mid2) / 2\n",
    "    else:\n",
    "        median = values[n / 2]\n",
    "    return median\n",
    "#Calculating mode\n",
    "def find_mode(data):\n",
    "    temp_data={}\n",
    "    for n in data:\n",
    "        if n in temp_data:\n",
    "            temp_data[n]+=1\n",
    "        else:\n",
    "            temp_data[n]=1\n",
    "    max_data=max(temp_data.values())\n",
    "    mode=[key for key, value in temp_data.items() if value == max_data]\n",
    "    return mode\n",
    "age=df['Age']\n",
    "mean_age = find_mean(age)\n",
    "median_age = find_median(age)\n",
    "mode_age = find_mode(age)\n",
    "\n",
    "annual_income = df['Annual Income']\n",
    "mean_annual_income=find_mean(annual_income)\n",
    "median_annual_income=find_median(annual_income)\n",
    "mode_annual_income=find_mode(annual_income)\n",
    "\n",
    "spendings = df['Spending_Score']\n",
    "mean_spending = find_mean(spendings)\n",
    "median_spendings = find_median(spendings)\n",
    "mode_spendings = find_mode(spendings)\n",
    "\n",
    "print(\"Mean age = \",mean_age)\n",
    "print(\"Mean Annual Income = \",mean_annual_income)\n",
    "print(\"Mean Spending Score = \",mean_spendings)\n",
    "\n",
    "print(\"Median of Age = \",median_age)\n",
    "print(\"Median of Annual Income = \",median_annual_income)\n",
    "print(\"Median of Spending Score = \",meadian_spendings)\n",
    "\n",
    "print(\"Mode Age = \",mode_age)\n",
    "print(\"Mode Annual Income = \",mode_annual_income)\n",
    "print(\"Mode Spending Score = \",mode_spendings)"
   ]
  },
  {
   "cell_type": "code",
   "execution_count": null,
   "id": "970d096c",
   "metadata": {},
   "outputs": [],
   "source": [
    "\n"
   ]
  },
  {
   "cell_type": "code",
   "execution_count": null,
   "id": "1b5d31c5",
   "metadata": {},
   "outputs": [],
   "source": []
  }
 ],
 "metadata": {
  "kernelspec": {
   "display_name": "Python 3 (ipykernel)",
   "language": "python",
   "name": "python3"
  },
  "language_info": {
   "codemirror_mode": {
    "name": "ipython",
    "version": 3
   },
   "file_extension": ".py",
   "mimetype": "text/x-python",
   "name": "python",
   "nbconvert_exporter": "python",
   "pygments_lexer": "ipython3",
   "version": "3.11.4"
  }
 },
 "nbformat": 4,
 "nbformat_minor": 5
}

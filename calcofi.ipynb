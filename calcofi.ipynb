{
 "cells": [
  {
   "cell_type": "code",
   "execution_count": null,
   "id": "1e9de0ca",
   "metadata": {},
   "outputs": [],
   "source": [
    "import pandas as pd\n",
    "import numpy as np\n",
    "import matplotlib.pyplot as plt\n",
    "import seaborn as sns\n"
   ]
  },
  {
   "cell_type": "code",
   "execution_count": null,
   "id": "8ef337ee",
   "metadata": {},
   "outputs": [],
   "source": [
    "# opening file with the help of read_csv \n",
    "calcofi = pd.read_csv(\"bottle.csv\",low_memory=False)"
   ]
  },
  {
   "cell_type": "code",
   "execution_count": null,
   "id": "9eb66602",
   "metadata": {},
   "outputs": [],
   "source": [
    "# observation of dataset\n",
    "calcofi.head()"
   ]
  },
  {
   "cell_type": "code",
   "execution_count": null,
   "id": "fc7e4e31",
   "metadata": {},
   "outputs": [],
   "source": [
    "calcofi.shape"
   ]
  },
  {
   "cell_type": "code",
   "execution_count": null,
   "id": "2cee68b1",
   "metadata": {},
   "outputs": [],
   "source": [
    "calcofi.describe()"
   ]
  },
  {
   "cell_type": "code",
   "execution_count": null,
   "id": "9eee2941",
   "metadata": {},
   "outputs": [],
   "source": [
    "calcofi.columns"
   ]
  },
  {
   "cell_type": "code",
   "execution_count": null,
   "id": "47cec18e",
   "metadata": {},
   "outputs": [],
   "source": [
    "#Selecting target columns as calcofi_tar\n",
    "calcofi_tar =calcofi[['T_degC', 'Salnty','Depthm','O2ml_L','O2Sat','STheta',]]"
   ]
  },
  {
   "cell_type": "code",
   "execution_count": null,
   "id": "ce24f244",
   "metadata": {},
   "outputs": [],
   "source": [
    "calcofi_tar.head()"
   ]
  },
  {
   "cell_type": "code",
   "execution_count": null,
   "id": "a048ab08",
   "metadata": {},
   "outputs": [],
   "source": [
    "# checking null values\n",
    "calcofi_tar.isnull().sum()"
   ]
  },
  {
   "cell_type": "code",
   "execution_count": null,
   "id": "f6976f39",
   "metadata": {},
   "outputs": [],
   "source": [
    "# Droping null values\n",
    "calcofi_tar=calcofi_tar.dropna()"
   ]
  },
  {
   "cell_type": "code",
   "execution_count": null,
   "id": "84125137",
   "metadata": {},
   "outputs": [],
   "source": [
    "calcofi_tar.shape"
   ]
  },
  {
   "cell_type": "code",
   "execution_count": null,
   "id": "8f27e26f",
   "metadata": {},
   "outputs": [],
   "source": [
    "calcofi_tar.describe()"
   ]
  },
  {
   "cell_type": "code",
   "execution_count": null,
   "id": "2a497b3f",
   "metadata": {},
   "outputs": [],
   "source": [
    "calcofi_tar.isnull().sum()"
   ]
  },
  {
   "cell_type": "code",
   "execution_count": null,
   "id": "ae5b11b0",
   "metadata": {},
   "outputs": [],
   "source": [
    "#reseting the index\n",
    "calcofi_tar.reset_index(drop=True, inplace=True)"
   ]
  },
  {
   "cell_type": "code",
   "execution_count": null,
   "id": "50d3ad6f",
   "metadata": {},
   "outputs": [],
   "source": [
    "calcofi_tar.head()"
   ]
  },
  {
   "cell_type": "code",
   "execution_count": null,
   "id": "7f7a8358",
   "metadata": {},
   "outputs": [],
   "source": [
    "#getting correlation\n",
    "calcofi_tar.corr()"
   ]
  },
  {
   "cell_type": "code",
   "execution_count": null,
   "id": "4bb607cd",
   "metadata": {},
   "outputs": [],
   "source": [
    "# Heatmap\n",
    "cor = calcofi_tar.corr()\n",
    "sns.heatmap(cor, cmap=\"crest\", annot=True)\n",
    "plt.show()"
   ]
  },
  {
   "cell_type": "code",
   "execution_count": null,
   "id": "d3874674",
   "metadata": {},
   "outputs": [],
   "source": [
    "# fpr getting pairplot\n",
    "sns.pairplot(calcofi_tar)"
   ]
  },
  {
   "cell_type": "code",
   "execution_count": null,
   "id": "04cab966",
   "metadata": {},
   "outputs": [],
   "source": [
    "# Set the style and color palette\n",
    "sns.set(style=\"whitegrid\", palette=\"pastel\")\n",
    "\n",
    "# Create a figure\n",
    "plt.figure(figsize=(10, 6))\n",
    "\n",
    "# Create a histogram with Seaborn\n",
    "sns.histplot(data=calcofi_tar, x='T_degC', bins=20, kde=True, color='skyblue')\n",
    "\n",
    "# Customize labels and title\n",
    "plt.title('Histogram of Temperature')\n",
    "plt.xlabel('Temperature in degree Celsius')\n",
    "plt.ylabel('Frequency')\n",
    "\n",
    "# Show the plot\n",
    "plt.show()\n",
    "\n",
    "\n",
    "\n",
    "\n",
    "\n",
    "\n",
    "\n"
   ]
  },
  {
   "cell_type": "code",
   "execution_count": null,
   "id": "e348a70c",
   "metadata": {},
   "outputs": [],
   "source": [
    "# Box-Plot\n",
    "sns.boxplot(y='T_degC',data=calcofi_tar)"
   ]
  },
  {
   "cell_type": "code",
   "execution_count": null,
   "id": "98edab17",
   "metadata": {},
   "outputs": [],
   "source": [
    "X = calcofi_tar.drop('T_degC',axis=1)\n",
    "y = calcofi_tar['T_degC']"
   ]
  },
  {
   "cell_type": "code",
   "execution_count": null,
   "id": "6eca0557",
   "metadata": {},
   "outputs": [],
   "source": [
    "X.head()"
   ]
  },
  {
   "cell_type": "code",
   "execution_count": null,
   "id": "d4d52d7c",
   "metadata": {},
   "outputs": [],
   "source": [
    "y.head()"
   ]
  },
  {
   "cell_type": "markdown",
   "id": "8b06db04",
   "metadata": {},
   "source": [
    "## Train Split Test"
   ]
  },
  {
   "cell_type": "code",
   "execution_count": null,
   "id": "f882d9f1",
   "metadata": {},
   "outputs": [],
   "source": [
    "from sklearn.model_selection import train_test_split\n",
    "X_train, X_test, y_train, y_test = train_test_split(X, y, test_size=0.33, random_state=42)"
   ]
  },
  {
   "cell_type": "code",
   "execution_count": null,
   "id": "6231ab77",
   "metadata": {},
   "outputs": [],
   "source": [
    "#Standardising the Dataset\n",
    "from sklearn.preprocessing import StandardScaler\n",
    "scaler = StandardScaler()\n"
   ]
  },
  {
   "cell_type": "code",
   "execution_count": null,
   "id": "a473072b",
   "metadata": {},
   "outputs": [],
   "source": [
    "X_train= scaler.fit_transform(X_train)"
   ]
  },
  {
   "cell_type": "code",
   "execution_count": null,
   "id": "1555ed3c",
   "metadata": {},
   "outputs": [],
   "source": [
    "X_test= scaler.transform(X_test)"
   ]
  },
  {
   "cell_type": "code",
   "execution_count": null,
   "id": "bdbc52f6",
   "metadata": {},
   "outputs": [],
   "source": [
    "# Importing Linear Regression\n",
    "from sklearn.linear_model import LinearRegression"
   ]
  },
  {
   "cell_type": "code",
   "execution_count": null,
   "id": "22c79885",
   "metadata": {},
   "outputs": [],
   "source": [
    "#for Cross Validation\n",
    "from sklearn.model_selection import cross_val_score"
   ]
  },
  {
   "cell_type": "code",
   "execution_count": null,
   "id": "dfe09ae0",
   "metadata": {},
   "outputs": [],
   "source": [
    "regression = LinearRegression()\n",
    "regression.fit(X_train,y_train)"
   ]
  },
  {
   "cell_type": "code",
   "execution_count": null,
   "id": "0d454207",
   "metadata": {},
   "outputs": [],
   "source": [
    "LinearRegression()"
   ]
  },
  {
   "cell_type": "code",
   "execution_count": null,
   "id": "6b86afcf",
   "metadata": {},
   "outputs": [],
   "source": [
    "MSE=cross_val_score(regression,X_train,y_train,scoring='neg_mean_squared_error',cv=5)"
   ]
  },
  {
   "cell_type": "code",
   "execution_count": null,
   "id": "53ee78b4",
   "metadata": {},
   "outputs": [],
   "source": [
    "np.mean(MSE)"
   ]
  },
  {
   "cell_type": "code",
   "execution_count": null,
   "id": "97395e2d",
   "metadata": {},
   "outputs": [],
   "source": [
    "#Prediction \n",
    "reg_pred = regression.predict(X_test)"
   ]
  },
  {
   "cell_type": "code",
   "execution_count": null,
   "id": "3e8fd7c9",
   "metadata": {},
   "outputs": [],
   "source": [
    "reg_pred"
   ]
  },
  {
   "cell_type": "code",
   "execution_count": null,
   "id": "3d36d0e8",
   "metadata": {},
   "outputs": [],
   "source": [
    "regression.coef_"
   ]
  },
  {
   "cell_type": "code",
   "execution_count": null,
   "id": "b60f274a",
   "metadata": {},
   "outputs": [],
   "source": [
    "regression.intercept_"
   ]
  },
  {
   "cell_type": "code",
   "execution_count": null,
   "id": "65c7ebd5",
   "metadata": {},
   "outputs": [],
   "source": [
    "# Create a distribution plot with KDE\n",
    "sns.displot(reg_pred - y_test, kde=True) \n",
    "plt.title('Distribution Plot with KDE')\n",
    "plt.xlabel('Difference (residuals)')\n",
    "plt.ylabel('Density')\n",
    "\n",
    "plt.show()"
   ]
  },
  {
   "cell_type": "code",
   "execution_count": null,
   "id": "e8bc422c",
   "metadata": {},
   "outputs": [],
   "source": [
    "# for calculating r2_score\n",
    "from sklearn.metrics import r2_score"
   ]
  },
  {
   "cell_type": "code",
   "execution_count": null,
   "id": "1364ef94",
   "metadata": {},
   "outputs": [],
   "source": [
    "score = r2_score(reg_pred,y_test)"
   ]
  },
  {
   "cell_type": "code",
   "execution_count": null,
   "id": "49fdbdcb",
   "metadata": {},
   "outputs": [],
   "source": [
    "score"
   ]
  },
  {
   "cell_type": "code",
   "execution_count": null,
   "id": "a2794f77",
   "metadata": {},
   "outputs": [],
   "source": []
  }
 ],
 "metadata": {
  "kernelspec": {
   "display_name": "Python 3 (ipykernel)",
   "language": "python",
   "name": "python3"
  },
  "language_info": {
   "codemirror_mode": {
    "name": "ipython",
    "version": 3
   },
   "file_extension": ".py",
   "mimetype": "text/x-python",
   "name": "python",
   "nbconvert_exporter": "python",
   "pygments_lexer": "ipython3",
   "version": "3.11.4"
  }
 },
 "nbformat": 4,
 "nbformat_minor": 5
}

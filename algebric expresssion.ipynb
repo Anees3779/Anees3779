{
 "cells": [
  {
   "cell_type": "code",
   "execution_count": null,
   "id": "c10993aa",
   "metadata": {},
   "outputs": [],
   "source": [
    "import math\n",
    "\n",
    "def vector_addition(vector1, vector2):\n",
    "    result = [vector1[0] + vector2[0], vector1[1] + vector2[1]]\n",
    "    return result\n",
    "\n",
    "def vector_subtraction(vector1, vector2):\n",
    "    result = [vector1[0] - vector2[0], vector1[1] - vector2[1]]\n",
    "    return result\n",
    "\n",
    "def scalar_multiplication(scalar, vector):\n",
    "    result = [scalar * vector[0], scalar * vector[1]]\n",
    "    return result\n",
    "\n",
    "def dot_product(vector1, vector2):\n",
    "    result = vector1[0] * vector2[0] + vector1[1] * vector2[1]\n",
    "    return result\n",
    "\n",
    "def magnitude(vector):\n",
    "    result = math.sqrt(vector[0] ** 2 + vector[1] ** 2)\n",
    "    return result\n",
    "\n",
    "def main():\n",
    "    print(\"2D Vector Operations Calculator\")\n",
    "    choice = input(\"Choose an operation (1: Addition, 2: Subtraction, 3: Scalar Multiplication, 4: Dot Product, 5: Magnitude): \")\n",
    "\n",
    "    if choice == '1':\n",
    "        vector1 = [float(input(\"Enter x1: \")), float(input(\"Enter y1: \"))]\n",
    "        vector2 = [float(input(\"Enter x2: \")), float(input(\"Enter y2: \"))]\n",
    "        result = vector_addition(vector1, vector2)\n",
    "        print(\"Vector Addition: \", result)\n",
    "    elif choice == '2':\n",
    "        vector1 = [float(input(\"Enter x1: \")), float(input(\"Enter y1: \"))]\n",
    "        vector2 = [float(input(\"Enter x2: \")), float(input(\"Enter y2: \"))]\n",
    "        result = vector_subtraction(vector1, vector2)\n",
    "        print(\"Vector Subtraction: \", result)\n",
    "    elif choice == '3':\n",
    "        vector = [int(input(\"Enter x: \")), int(input(\"Enter y: \"))]\n",
    "        scalar = int(input(\"Enter Scalar: \"))\n",
    "        result = scalar_multiplication(scalar, vector)\n",
    "        print(\"Scalar Multiplication: \", result)\n",
    "    elif choice == '4':\n",
    "        vector1 = [float(input(\"Enter x1: \")), float(input(\"Enter y1: \"))]\n",
    "        vector2 = [float(input(\"Enter x2: \")), float(input(\"Enter y2: \"))]\n",
    "        result = dot_product(vector1, vector2)\n",
    "        print(\"Dot Product: \", result)\n",
    "    elif choice == '5':\n",
    "        vector = [float(input(\"Enter x: \")), float(input(\"Enter y: \"))]\n",
    "        result = magnitude(vector)\n",
    "        print(\"Magnitude: \", result)\n",
    "    else:\n",
    "        print(\"Invalid choice!\")\n",
    "\n",
    "if __name__ == \"__main__\":\n",
    "    main()\n"
   ]
  }
 ],
 "metadata": {
  "kernelspec": {
   "display_name": "Python 3 (ipykernel)",
   "language": "python",
   "name": "python3"
  },
  "language_info": {
   "codemirror_mode": {
    "name": "ipython",
    "version": 3
   },
   "file_extension": ".py",
   "mimetype": "text/x-python",
   "name": "python",
   "nbconvert_exporter": "python",
   "pygments_lexer": "ipython3",
   "version": "3.11.4"
  }
 },
 "nbformat": 4,
 "nbformat_minor": 5
}
